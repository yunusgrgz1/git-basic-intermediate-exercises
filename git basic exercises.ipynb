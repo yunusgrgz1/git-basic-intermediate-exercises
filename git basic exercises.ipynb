{
 "cells": [
  {
   "cell_type": "markdown",
   "id": "6aa98e35",
   "metadata": {},
   "source": [
    "# Install and Configure Git"
   ]
  },
  {
   "cell_type": "markdown",
   "id": "c0b6278e",
   "metadata": {},
   "source": [
    "**1) Write the command to check if Git is installed on your system.**"
   ]
  },
  {
   "cell_type": "code",
   "execution_count": null,
   "id": "0f2333bf",
   "metadata": {
    "vscode": {
     "languageId": "plaintext"
    }
   },
   "outputs": [],
   "source": []
  },
  {
   "cell_type": "markdown",
   "id": "57765e31",
   "metadata": {},
   "source": [
    "<details>\n",
    "<summary style=\"font-size:16px; color: darkgreen; cursor: pointer;\">Click to reveal the answer</summary>\n",
    "\n",
    "`git --version`\n",
    "\n",
    "</details>\n"
   ]
  },
  {
   "cell_type": "markdown",
   "id": "eef692d4",
   "metadata": {},
   "source": [
    "**2) Write the command to install Git on Ubuntu/Linux.**"
   ]
  },
  {
   "cell_type": "markdown",
   "id": "901873a9",
   "metadata": {},
   "source": []
  },
  {
   "cell_type": "markdown",
   "id": "e643bac2",
   "metadata": {},
   "source": [
    "<details>\n",
    "<summary style=\"font-size:16px; color: darkgreen; cursor: pointer;\">Click to reveal the answer</summary>\n",
    "\n",
    "`sudo apt install git`\n",
    "\n",
    "</details>\n"
   ]
  },
  {
   "cell_type": "markdown",
   "id": "0ca0681d",
   "metadata": {},
   "source": [
    "**3) Write the Git commands to set your global username and email.**"
   ]
  },
  {
   "cell_type": "markdown",
   "id": "bd6b1015",
   "metadata": {},
   "source": []
  },
  {
   "cell_type": "markdown",
   "id": "5f7e1430",
   "metadata": {},
   "source": [
    "<details>\n",
    "<summary style=\"font-size:16px; color: darkgreen; cursor: pointer;\">Click to reveal the answer</summary>\n",
    "\n",
    "`git config --global user.name \"Your Name\"`\n",
    "\n",
    "`git config --global user.email \"your.email@example.com\"`\n",
    "\n",
    "</details>\n"
   ]
  },
  {
   "cell_type": "markdown",
   "id": "0b19146c",
   "metadata": {},
   "source": [
    "# Staging Changes"
   ]
  },
  {
   "cell_type": "markdown",
   "id": "36b01184",
   "metadata": {},
   "source": [
    "**4) Write the command to see the current status of your Git repository.**"
   ]
  },
  {
   "cell_type": "markdown",
   "id": "9564eff2",
   "metadata": {},
   "source": []
  },
  {
   "cell_type": "markdown",
   "id": "e4fe8b27",
   "metadata": {},
   "source": [
    "<details>\n",
    "<summary style=\"font-size:16px; color: darkgreen; cursor: pointer;\">Click to reveal the answer</summary>\n",
    "\n",
    "`git status`\n",
    "\n",
    "</details>\n"
   ]
  },
  {
   "cell_type": "markdown",
   "id": "63d59080",
   "metadata": {},
   "source": [
    "**5) Write the command to add a single file named example.txt to the staging area.**"
   ]
  },
  {
   "cell_type": "markdown",
   "id": "12e113e1",
   "metadata": {},
   "source": []
  },
  {
   "cell_type": "markdown",
   "id": "e9902a08",
   "metadata": {},
   "source": [
    "<details>\n",
    "<summary style=\"font-size:16px; color: darkgreen; cursor: pointer;\">Click to reveal the answer</summary>\n",
    "\n",
    "`git add example.txt`\n",
    "\n",
    "</details>\n"
   ]
  },
  {
   "cell_type": "markdown",
   "id": "a0e85dca",
   "metadata": {},
   "source": [
    "**6) Write the command to add all changed files to the staging area.**"
   ]
  },
  {
   "cell_type": "markdown",
   "id": "91a49c8f",
   "metadata": {},
   "source": []
  },
  {
   "cell_type": "markdown",
   "id": "0b8074fd",
   "metadata": {},
   "source": [
    "<details>\n",
    "<summary style=\"font-size:16px; color: darkgreen; cursor: pointer;\">Click to reveal the answer</summary>\n",
    "\n",
    "`git add .`\n",
    "\n",
    "</details>\n"
   ]
  },
  {
   "cell_type": "markdown",
   "id": "6913cd7f",
   "metadata": {},
   "source": [
    "**7) Write the command to unstage a file named example.txt**"
   ]
  },
  {
   "cell_type": "markdown",
   "id": "c9f4437f",
   "metadata": {},
   "source": []
  },
  {
   "cell_type": "markdown",
   "id": "b232a8cd",
   "metadata": {},
   "source": [
    "<details>\n",
    "<summary style=\"font-size:16px; color: darkgreen; cursor: pointer;\">Click to reveal the answer</summary>\n",
    "\n",
    "`git restore --staged example.txt`\n",
    "\n",
    "</details>\n"
   ]
  },
  {
   "cell_type": "markdown",
   "id": "4b4c6a00",
   "metadata": {},
   "source": [
    "# Commit & History"
   ]
  },
  {
   "cell_type": "markdown",
   "id": "bd2fa30d",
   "metadata": {},
   "source": [
    "**8) Write the command to commit staged changes with the message \"Initial commit\".**"
   ]
  },
  {
   "cell_type": "markdown",
   "id": "1a8b89be",
   "metadata": {},
   "source": []
  },
  {
   "cell_type": "markdown",
   "id": "a4d7b250",
   "metadata": {},
   "source": [
    "<details>\n",
    "<summary style=\"font-size:16px; color: darkgreen; cursor: pointer;\">Click to reveal the answer</summary>\n",
    "\n",
    "`git commit -m \"Initial commit\"`\n",
    "\n",
    "</details>\n"
   ]
  },
  {
   "cell_type": "markdown",
   "id": "981fb529",
   "metadata": {},
   "source": [
    "**9) Write the command to see the commit history of the current branch.**"
   ]
  },
  {
   "cell_type": "markdown",
   "id": "2cf4d7db",
   "metadata": {},
   "source": []
  },
  {
   "cell_type": "markdown",
   "id": "44afeffe",
   "metadata": {},
   "source": [
    "<details>\n",
    "<summary style=\"font-size:16px; color: darkgreen; cursor: pointer;\">Click to reveal the answer</summary>\n",
    "\n",
    "`git log`\n",
    "\n",
    "</details>\n"
   ]
  },
  {
   "cell_type": "markdown",
   "id": "67f9d394",
   "metadata": {},
   "source": [
    "**10) Write the command to see a one-line summary of the last 5 commits.**"
   ]
  },
  {
   "cell_type": "markdown",
   "id": "c010da5c",
   "metadata": {},
   "source": []
  },
  {
   "cell_type": "markdown",
   "id": "32cc8211",
   "metadata": {},
   "source": [
    "<details>\n",
    "<summary style=\"font-size:16px; color: darkgreen; cursor: pointer;\">Click to reveal the answer</summary>\n",
    "\n",
    "`git log --oneline -5`\n",
    "\n",
    "</details>\n"
   ]
  },
  {
   "cell_type": "markdown",
   "id": "3d47c55e",
   "metadata": {},
   "source": [
    "**11) Write the command to update the last commit message to \"New commit message\"**"
   ]
  },
  {
   "cell_type": "markdown",
   "id": "73c4af1b",
   "metadata": {},
   "source": []
  },
  {
   "cell_type": "markdown",
   "id": "f8dbdaba",
   "metadata": {},
   "source": [
    "<details>\n",
    "<summary style=\"font-size:16px; color: darkgreen; cursor: pointer;\">Click to reveal the answer</summary>\n",
    "\n",
    "`git commit --amend -m \"New commit message\"`\n",
    "\n",
    "</details>\n"
   ]
  },
  {
   "cell_type": "markdown",
   "id": "e4003645",
   "metadata": {},
   "source": [
    "**12) Write the command to view changes in your working directory that are not staged yet.**"
   ]
  },
  {
   "cell_type": "markdown",
   "id": "cb19a3a0",
   "metadata": {},
   "source": []
  },
  {
   "cell_type": "markdown",
   "id": "e0db2f71",
   "metadata": {},
   "source": [
    "<details>\n",
    "<summary style=\"font-size:16px; color: darkgreen; cursor: pointer;\">Click to reveal the answer</summary>\n",
    "\n",
    "`git diff`\n",
    "\n",
    "</details>\n"
   ]
  },
  {
   "cell_type": "markdown",
   "id": "26e5969e",
   "metadata": {},
   "source": [
    "**13) Write the command to view changes that are staged for commit.**"
   ]
  },
  {
   "cell_type": "markdown",
   "id": "fee012a6",
   "metadata": {},
   "source": []
  },
  {
   "cell_type": "markdown",
   "id": "5135306c",
   "metadata": {},
   "source": [
    "<details>\n",
    "<summary style=\"font-size:16px; color: darkgreen; cursor: pointer;\">Click to reveal the answer</summary>\n",
    "\n",
    "`git diff --staged`\n",
    "\n",
    "</details>\n"
   ]
  },
  {
   "cell_type": "markdown",
   "id": "e58726f0",
   "metadata": {},
   "source": []
  },
  {
   "cell_type": "markdown",
   "id": "5a41cbe8",
   "metadata": {},
   "source": [
    "# Tagging in Git"
   ]
  },
  {
   "cell_type": "markdown",
   "id": "58518150",
   "metadata": {},
   "source": [
    "**14) Write the command to list all tags in the repository.**"
   ]
  },
  {
   "cell_type": "markdown",
   "id": "6f55b0ea",
   "metadata": {},
   "source": []
  },
  {
   "cell_type": "markdown",
   "id": "924c2ef2",
   "metadata": {},
   "source": [
    "<details>\n",
    "<summary style=\"font-size:16px; color: darkgreen; cursor: pointer;\">Click to reveal the answer</summary>\n",
    "\n",
    "`git tag`\n",
    "\n",
    "</details>\n"
   ]
  },
  {
   "cell_type": "markdown",
   "id": "5e0fcc70",
   "metadata": {},
   "source": [
    "**15) Write the command to add a lightweight tag named v1.0 to the last commit.**"
   ]
  },
  {
   "cell_type": "markdown",
   "id": "d5c29155",
   "metadata": {},
   "source": [
    "<details>\n",
    "<summary style=\"font-size:16px; color: darkgreen; cursor: pointer;\">Click to reveal the answer</summary>\n",
    "\n",
    "`git tag v1.0`\n",
    "\n",
    "</details>\n"
   ]
  },
  {
   "cell_type": "markdown",
   "id": "e5a934b6",
   "metadata": {},
   "source": [
    "**16) Write the command to create an annotated tag named v1.0 with the message \"Release version 1.0\"**"
   ]
  },
  {
   "cell_type": "markdown",
   "id": "6ccb2914",
   "metadata": {},
   "source": []
  },
  {
   "cell_type": "markdown",
   "id": "2ed8c123",
   "metadata": {},
   "source": [
    "<details>\n",
    "<summary style=\"font-size:16px; color: darkgreen; cursor: pointer;\">Click to reveal the answer</summary>\n",
    "\n",
    "`git tag -a v1.0 -m \"Release version 1.0\"`\n",
    "\n",
    "</details>\n"
   ]
  },
  {
   "cell_type": "markdown",
   "id": "58471505",
   "metadata": {},
   "source": [
    "**17) Write the command to view details of a tag named v1.0**"
   ]
  },
  {
   "cell_type": "markdown",
   "id": "92f2b7e1",
   "metadata": {},
   "source": []
  },
  {
   "cell_type": "markdown",
   "id": "20bac61b",
   "metadata": {},
   "source": [
    "<details>\n",
    "<summary style=\"font-size:16px; color: darkgreen; cursor: pointer;\">Click to reveal the answer</summary>\n",
    "\n",
    "`git show v1.0`\n",
    "\n",
    "</details>\n"
   ]
  },
  {
   "cell_type": "markdown",
   "id": "769ce925",
   "metadata": {},
   "source": [
    "Intermediate Git Topics (Yarın)\n",
    "\n",
    "Stashing – Geçici olarak değişiklikleri saklamak ve geri almak (git stash, git stash pop)\n",
    "\n",
    "History – Commit geçmişini detaylı görüntüleme, log formatları (git log, git log --oneline, git log --graph)\n",
    "\n",
    "Help – Git komutlarının dokümantasyonunu kullanmak (git help <command>, git <command> --help)\n",
    "\n",
    "Branch – Branch oluşturma, listeleme, geçiş (git branch, git checkout, git switch)\n",
    "\n",
    "Merge – Branch birleştirme ve çatışma çözme (git merge)\n",
    "\n",
    "SSH, Security, and Connection to Remote – Remote ile güvenli bağlantı kurmak\n",
    "\n",
    "Pull – Remote repository’den değişiklikleri çekmek\n",
    "\n",
    "Default branch: git pull\n",
    "\n",
    "Spesifik branch: git pull origin branch_name\n",
    "\n",
    "Push – Local değişiklikleri remote’a göndermek\n",
    "\n",
    "Default branch: git push\n",
    "\n",
    "Spesifik branch: git push origin branch_name\n",
    "\n",
    "Clone – Remote repository’i lokal olarak çoğaltmak (git clone <repo_url>)\n",
    "\n",
    "Pull Request – Remote üzerinde değişikliklerin review ve merge süreci\n",
    "\n",
    "Revert – Commit’i geri almak, history’yi bozmadan (git revert <commit>)\n",
    "\n",
    "Reset – Commit veya staging’i geri almak, history’yi değiştirebilir (git reset --soft/hard <commit>)\n",
    "\n",
    "Recovery – Kaybolan commit veya branch’leri kurtarma (git reflog, git checkout <commit> vb.)"
   ]
  },
  {
   "cell_type": "markdown",
   "id": "1a3307c7",
   "metadata": {},
   "source": []
  }
 ],
 "metadata": {
  "kernelspec": {
   "display_name": "Python 3",
   "language": "python",
   "name": "python3"
  },
  "language_info": {
   "codemirror_mode": {
    "name": "ipython",
    "version": 3
   },
   "file_extension": ".py",
   "mimetype": "text/x-python",
   "name": "python",
   "nbconvert_exporter": "python",
   "pygments_lexer": "ipython3",
   "version": "3.10.10"
  }
 },
 "nbformat": 4,
 "nbformat_minor": 5
}
