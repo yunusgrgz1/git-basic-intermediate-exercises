{
 "cells": [
  {
   "cell_type": "markdown",
   "id": "3f058eb1",
   "metadata": {},
   "source": [
    "# Intermediate Git"
   ]
  },
  {
   "cell_type": "markdown",
   "id": "02a7594c",
   "metadata": {},
   "source": [
    "### Stashing Changes"
   ]
  },
  {
   "cell_type": "markdown",
   "id": "dda09dec",
   "metadata": {},
   "source": [
    "**1) Write the command to stash your current changes.**"
   ]
  },
  {
   "cell_type": "code",
   "execution_count": null,
   "id": "9388136f",
   "metadata": {
    "vscode": {
     "languageId": "plaintext"
    }
   },
   "outputs": [],
   "source": []
  },
  {
   "cell_type": "markdown",
   "id": "17c6a7d2",
   "metadata": {},
   "source": [
    "<details>\n",
    "<summary style=\"font-size:16px; color: darkgreen; cursor: pointer;\">Click to reveal the answer</summary>\n",
    "\n",
    "`git stash`\n",
    "\n",
    "</details>\n"
   ]
  },
  {
   "cell_type": "markdown",
   "id": "64cae5bb",
   "metadata": {},
   "source": [
    "**2) Write the command to list all stashed changes.**"
   ]
  },
  {
   "cell_type": "code",
   "execution_count": null,
   "id": "4dd65a4e",
   "metadata": {
    "vscode": {
     "languageId": "plaintext"
    }
   },
   "outputs": [],
   "source": []
  },
  {
   "cell_type": "markdown",
   "id": "a474f768",
   "metadata": {},
   "source": [
    "<details>\n",
    "<summary style=\"font-size:16px; color: darkgreen; cursor: pointer;\">Click to reveal the answer</summary>\n",
    "\n",
    "`git stash list`\n",
    "\n",
    "</details>\n"
   ]
  },
  {
   "cell_type": "markdown",
   "id": "efb3613e",
   "metadata": {},
   "source": [
    "**3) Write the command to apply the latest stashed changes without removing it from the stash list.**"
   ]
  },
  {
   "cell_type": "code",
   "execution_count": null,
   "id": "8c9c05b6",
   "metadata": {
    "vscode": {
     "languageId": "plaintext"
    }
   },
   "outputs": [],
   "source": []
  },
  {
   "cell_type": "markdown",
   "id": "9381e2af",
   "metadata": {},
   "source": [
    "<details>\n",
    "<summary style=\"font-size:16px; color: darkgreen; cursor: pointer;\">Click to reveal the answer</summary>\n",
    "\n",
    "`git stash apply`\n",
    "\n",
    "</details>\n"
   ]
  },
  {
   "cell_type": "markdown",
   "id": "77210419",
   "metadata": {},
   "source": [
    "**4) Write the command to apply the latest stashed changes and remove it from the stash list.**"
   ]
  },
  {
   "cell_type": "code",
   "execution_count": null,
   "id": "f36d0c79",
   "metadata": {
    "vscode": {
     "languageId": "plaintext"
    }
   },
   "outputs": [],
   "source": []
  },
  {
   "cell_type": "markdown",
   "id": "291b0e90",
   "metadata": {},
   "source": [
    "<details>\n",
    "<summary style=\"font-size:16px; color: darkgreen; cursor: pointer;\">Click to reveal the answer</summary>\n",
    "\n",
    "`git stash pop`\n",
    "\n",
    "</details>\n"
   ]
  },
  {
   "cell_type": "markdown",
   "id": "4d674b0c",
   "metadata": {},
   "source": [
    "### Git History and Logs"
   ]
  },
  {
   "cell_type": "markdown",
   "id": "1e1b04ba",
   "metadata": {},
   "source": [
    "**5) Write the command to view the full commit history of the current branch.**"
   ]
  },
  {
   "cell_type": "code",
   "execution_count": null,
   "id": "a70f43b8",
   "metadata": {
    "vscode": {
     "languageId": "plaintext"
    }
   },
   "outputs": [],
   "source": []
  },
  {
   "cell_type": "markdown",
   "id": "a15185b0",
   "metadata": {},
   "source": [
    "<details>\n",
    "<summary style=\"font-size:16px; color: darkgreen; cursor: pointer;\">Click to reveal the answer</summary>\n",
    "\n",
    "`git log`\n",
    "\n",
    "</details>\n"
   ]
  },
  {
   "cell_type": "markdown",
   "id": "c6b1e2c2",
   "metadata": {},
   "source": [
    "**6) Write the command to view the commit history in one line per commit.**"
   ]
  },
  {
   "cell_type": "code",
   "execution_count": null,
   "id": "47eafb97",
   "metadata": {
    "vscode": {
     "languageId": "plaintext"
    }
   },
   "outputs": [],
   "source": []
  },
  {
   "cell_type": "markdown",
   "id": "2b868344",
   "metadata": {},
   "source": [
    "<details>\n",
    "<summary style=\"font-size:16px; color: darkgreen; cursor: pointer;\">Click to reveal the answer</summary>\n",
    "\n",
    "`git log --oneline`\n",
    "\n",
    "</details>\n"
   ]
  },
  {
   "cell_type": "markdown",
   "id": "e4598d9e",
   "metadata": {},
   "source": [
    "**7) Write the command to view the last 5 commits in one-line format.**"
   ]
  },
  {
   "cell_type": "code",
   "execution_count": null,
   "id": "148a8998",
   "metadata": {
    "vscode": {
     "languageId": "plaintext"
    }
   },
   "outputs": [],
   "source": []
  },
  {
   "cell_type": "markdown",
   "id": "2c2b27f9",
   "metadata": {},
   "source": [
    "<details>\n",
    "<summary style=\"font-size:16px; color: darkgreen; cursor: pointer;\">Click to reveal the answer</summary>\n",
    "\n",
    "`git log --oneline -5`\n",
    "\n",
    "</details>\n"
   ]
  },
  {
   "cell_type": "markdown",
   "id": "f82b7a7e",
   "metadata": {},
   "source": [
    "**8) Write the command to show the changes introduced in a specific commit (e.g., commit hash a1b2c3d).**"
   ]
  },
  {
   "cell_type": "code",
   "execution_count": null,
   "id": "1ba59879",
   "metadata": {
    "vscode": {
     "languageId": "plaintext"
    }
   },
   "outputs": [],
   "source": []
  },
  {
   "cell_type": "markdown",
   "id": "c96aac18",
   "metadata": {},
   "source": [
    "<details>\n",
    "<summary style=\"font-size:16px; color: darkgreen; cursor: pointer;\">Click to reveal the answer</summary>\n",
    "\n",
    "`git show a1b2c3d`\n",
    "\n",
    "</details>\n"
   ]
  },
  {
   "cell_type": "markdown",
   "id": "1112d1ac",
   "metadata": {},
   "source": [
    "### Git Help"
   ]
  },
  {
   "cell_type": "markdown",
   "id": "c813540a",
   "metadata": {},
   "source": [
    "**9) Write the command to get help for a specific Git command, for example commit.**"
   ]
  },
  {
   "cell_type": "code",
   "execution_count": null,
   "id": "516dcfc9",
   "metadata": {
    "vscode": {
     "languageId": "plaintext"
    }
   },
   "outputs": [],
   "source": []
  },
  {
   "cell_type": "markdown",
   "id": "e95ca3e1",
   "metadata": {},
   "source": [
    "<details>\n",
    "<summary style=\"font-size:16px; color: darkgreen; cursor: pointer;\">Click to reveal the answer</summary>\n",
    "\n",
    "`git help commit`\n",
    "\n",
    "alternatively: `git commit --help`\n",
    "\n",
    "</details>\n"
   ]
  },
  {
   "cell_type": "markdown",
   "id": "d1c198b3",
   "metadata": {},
   "source": [
    "**10) Write the command to see a list of all Git commands.**"
   ]
  },
  {
   "cell_type": "code",
   "execution_count": null,
   "id": "f6554975",
   "metadata": {
    "vscode": {
     "languageId": "plaintext"
    }
   },
   "outputs": [],
   "source": []
  },
  {
   "cell_type": "markdown",
   "id": "b5dc38c8",
   "metadata": {},
   "source": [
    "<details>\n",
    "<summary style=\"font-size:16px; color: darkgreen; cursor: pointer;\">Click to reveal the answer</summary>\n",
    "\n",
    "`git help -a`\n",
    "\n",
    "</details>\n"
   ]
  },
  {
   "cell_type": "markdown",
   "id": "a8da5c3b",
   "metadata": {},
   "source": [
    "### Git Branching"
   ]
  },
  {
   "cell_type": "markdown",
   "id": "de8fdb8d",
   "metadata": {},
   "source": [
    "**11) Write the command to list all branches in the repository.**"
   ]
  },
  {
   "cell_type": "code",
   "execution_count": null,
   "id": "c2ef3a38",
   "metadata": {
    "vscode": {
     "languageId": "plaintext"
    }
   },
   "outputs": [],
   "source": []
  },
  {
   "cell_type": "markdown",
   "id": "12fdbd60",
   "metadata": {},
   "source": [
    "<details>\n",
    "<summary style=\"font-size:16px; color: darkgreen; cursor: pointer;\">Click to reveal the answer</summary>\n",
    "\n",
    "`git branch`\n",
    "\n",
    "</details>\n"
   ]
  },
  {
   "cell_type": "markdown",
   "id": "e726a7be",
   "metadata": {},
   "source": [
    "**13) Write the command to create a new branch named feature1.**"
   ]
  },
  {
   "cell_type": "code",
   "execution_count": null,
   "id": "65919eea",
   "metadata": {
    "vscode": {
     "languageId": "plaintext"
    }
   },
   "outputs": [],
   "source": []
  },
  {
   "cell_type": "markdown",
   "id": "80c8bd1d",
   "metadata": {},
   "source": [
    "<details>\n",
    "<summary style=\"font-size:16px; color: darkgreen; cursor: pointer;\">Click to reveal the answer</summary>\n",
    "\n",
    "`git branch feature1`\n",
    "\n",
    "</details>\n"
   ]
  },
  {
   "cell_type": "markdown",
   "id": "fdb4ca58",
   "metadata": {},
   "source": [
    "**14) Write the command to create a new branch feature2 and switch to it immediately.**"
   ]
  },
  {
   "cell_type": "code",
   "execution_count": null,
   "id": "4460e538",
   "metadata": {
    "vscode": {
     "languageId": "plaintext"
    }
   },
   "outputs": [],
   "source": []
  },
  {
   "cell_type": "markdown",
   "id": "b1315b9e",
   "metadata": {},
   "source": [
    "<details>\n",
    "<summary style=\"font-size:16px; color: darkgreen; cursor: pointer;\">Click to reveal the answer</summary>\n",
    "\n",
    "`git checkout -b feature2`\n",
    "\n",
    "</details>\n"
   ]
  },
  {
   "cell_type": "markdown",
   "id": "6622d54e",
   "metadata": {},
   "source": [
    "**15) Write the command to delete a branch named feature1.**"
   ]
  },
  {
   "cell_type": "code",
   "execution_count": null,
   "id": "35a768ca",
   "metadata": {
    "vscode": {
     "languageId": "plaintext"
    }
   },
   "outputs": [],
   "source": []
  },
  {
   "cell_type": "markdown",
   "id": "e20fffd4",
   "metadata": {},
   "source": [
    "<details>\n",
    "<summary style=\"font-size:16px; color: darkgreen; cursor: pointer;\">Click to reveal the answer</summary>\n",
    "\n",
    "`git branch -d feature1`\n",
    "\n",
    "</details>\n"
   ]
  },
  {
   "cell_type": "markdown",
   "id": "65db5ebf",
   "metadata": {},
   "source": [
    "**16) Write the command to force delete a branch named feature2.**"
   ]
  },
  {
   "cell_type": "code",
   "execution_count": null,
   "id": "971d15b3",
   "metadata": {
    "vscode": {
     "languageId": "plaintext"
    }
   },
   "outputs": [],
   "source": []
  },
  {
   "cell_type": "markdown",
   "id": "073eee0d",
   "metadata": {},
   "source": [
    "<details>\n",
    "<summary style=\"font-size:16px; color: darkgreen; cursor: pointer;\">Click to reveal the answer</summary>\n",
    "\n",
    "`git branch -D feature2`\n",
    "\n",
    "</details>\n"
   ]
  },
  {
   "cell_type": "markdown",
   "id": "6ee0cd79",
   "metadata": {},
   "source": [
    "**17) Write the command to rename the current branch to new-feature.**"
   ]
  },
  {
   "cell_type": "code",
   "execution_count": null,
   "id": "1cd10e4e",
   "metadata": {
    "vscode": {
     "languageId": "plaintext"
    }
   },
   "outputs": [],
   "source": []
  },
  {
   "cell_type": "markdown",
   "id": "d110241b",
   "metadata": {},
   "source": [
    "<details>\n",
    "<summary style=\"font-size:16px; color: darkgreen; cursor: pointer;\">Click to reveal the answer</summary>\n",
    "\n",
    "`git branch -m new-feature`\n",
    "\n",
    "</details>\n"
   ]
  },
  {
   "cell_type": "markdown",
   "id": "2ea5b41e",
   "metadata": {},
   "source": [
    "# Git Merge"
   ]
  },
  {
   "cell_type": "markdown",
   "id": "98510c55",
   "metadata": {},
   "source": [
    "**18) Write the command to merge a branch named feature1 into the current branch.**"
   ]
  },
  {
   "cell_type": "code",
   "execution_count": null,
   "id": "5514339b",
   "metadata": {
    "vscode": {
     "languageId": "plaintext"
    }
   },
   "outputs": [],
   "source": []
  },
  {
   "cell_type": "markdown",
   "id": "ed7df4c7",
   "metadata": {},
   "source": [
    "<details>\n",
    "<summary style=\"font-size:16px; color: darkgreen; cursor: pointer;\">Click to reveal the answer</summary>\n",
    "\n",
    "`git merge feature1`\n",
    "\n",
    "</details>\n"
   ]
  },
  {
   "cell_type": "markdown",
   "id": "3fa0d216",
   "metadata": {},
   "source": [
    "# Git Remote Connection, Pull & Push, Clone"
   ]
  },
  {
   "cell_type": "markdown",
   "id": "0f3bc1aa",
   "metadata": {},
   "source": [
    "**19) Write the command to see the remote repositories linked to your local repository.**"
   ]
  },
  {
   "cell_type": "code",
   "execution_count": null,
   "id": "c45051fe",
   "metadata": {
    "vscode": {
     "languageId": "plaintext"
    }
   },
   "outputs": [],
   "source": []
  },
  {
   "cell_type": "markdown",
   "id": "52ac158d",
   "metadata": {},
   "source": [
    "<details>\n",
    "<summary style=\"font-size:16px; color: darkgreen; cursor: pointer;\">Click to reveal the answer</summary>\n",
    "\n",
    "`git remote -v`\n",
    "\n",
    "</details>\n"
   ]
  },
  {
   "cell_type": "markdown",
   "id": "8ed9cc90",
   "metadata": {},
   "source": [
    "**20) Write the command to add a new remote repository named origin with the URL git@github.com:username/repo.git.**"
   ]
  },
  {
   "cell_type": "code",
   "execution_count": null,
   "id": "bc3ab233",
   "metadata": {
    "vscode": {
     "languageId": "plaintext"
    }
   },
   "outputs": [],
   "source": []
  },
  {
   "cell_type": "markdown",
   "id": "49c78ae6",
   "metadata": {},
   "source": [
    "<details>\n",
    "<summary style=\"font-size:16px; color: darkgreen; cursor: pointer;\">Click to reveal the answer</summary>\n",
    "\n",
    "`git remote add origin git@github.com:username/repo.git`\n",
    "\n",
    "</details>\n"
   ]
  },
  {
   "cell_type": "markdown",
   "id": "cd721156",
   "metadata": {},
   "source": [
    "**21) Clone the repository git@github.com:username/repo.git .**"
   ]
  },
  {
   "cell_type": "code",
   "execution_count": null,
   "id": "3d73aef4",
   "metadata": {
    "vscode": {
     "languageId": "plaintext"
    }
   },
   "outputs": [],
   "source": []
  },
  {
   "cell_type": "markdown",
   "id": "1ec4feb0",
   "metadata": {},
   "source": [
    "<details>\n",
    "<summary style=\"font-size:16px; color: darkgreen; cursor: pointer;\">Click to reveal the answer</summary>\n",
    "\n",
    "`git clone git@github.com:username/repo.git`\n",
    "\n",
    "</details>\n"
   ]
  },
  {
   "cell_type": "markdown",
   "id": "a6a7a59c",
   "metadata": {},
   "source": [
    "**22) Write the command to pull changes from the default branch of the remote repository.**"
   ]
  },
  {
   "cell_type": "code",
   "execution_count": null,
   "id": "90f30f52",
   "metadata": {
    "vscode": {
     "languageId": "plaintext"
    }
   },
   "outputs": [],
   "source": []
  },
  {
   "cell_type": "markdown",
   "id": "e0563160",
   "metadata": {},
   "source": [
    "<details>\n",
    "<summary style=\"font-size:16px; color: darkgreen; cursor: pointer;\">Click to reveal the answer</summary>\n",
    "\n",
    "`git pull`\n",
    "\n",
    "</details>\n"
   ]
  },
  {
   "cell_type": "markdown",
   "id": "4e5e9721",
   "metadata": {},
   "source": [
    "**23) Write the command to pull changes from the specific branch \"dev\" on the remote origin.**"
   ]
  },
  {
   "cell_type": "code",
   "execution_count": null,
   "id": "6860aeef",
   "metadata": {
    "vscode": {
     "languageId": "plaintext"
    }
   },
   "outputs": [],
   "source": []
  },
  {
   "cell_type": "markdown",
   "id": "7bc8ed06",
   "metadata": {},
   "source": [
    "<details>\n",
    "<summary style=\"font-size:16px; color: darkgreen; cursor: pointer;\">Click to reveal the answer</summary>\n",
    "\n",
    "`git pull origin dev`\n",
    "\n",
    "</details>\n"
   ]
  },
  {
   "cell_type": "markdown",
   "id": "30cb6963",
   "metadata": {},
   "source": [
    "**24) Write the command to push your local branch feature1 to the remote origin.**"
   ]
  },
  {
   "cell_type": "code",
   "execution_count": null,
   "id": "0ff94947",
   "metadata": {
    "vscode": {
     "languageId": "plaintext"
    }
   },
   "outputs": [],
   "source": []
  },
  {
   "cell_type": "markdown",
   "id": "09bff50c",
   "metadata": {},
   "source": [
    "<details>\n",
    "<summary style=\"font-size:16px; color: darkgreen; cursor: pointer;\">Click to reveal the answer</summary>\n",
    "\n",
    "`git push origin feature1`\n",
    "\n",
    "</details>\n"
   ]
  },
  {
   "cell_type": "markdown",
   "id": "f26056f9",
   "metadata": {},
   "source": [
    "**25) Write the command to push your local branch feature1 to the remote branch test on origin**"
   ]
  },
  {
   "cell_type": "code",
   "execution_count": null,
   "id": "879e680a",
   "metadata": {
    "vscode": {
     "languageId": "plaintext"
    }
   },
   "outputs": [],
   "source": []
  },
  {
   "cell_type": "markdown",
   "id": "9cadb5bc",
   "metadata": {},
   "source": [
    "<details>\n",
    "<summary style=\"font-size:16px; color: darkgreen; cursor: pointer;\">Click to reveal the answer</summary>\n",
    "\n",
    "`git push origin feature1:test`\n",
    "\n",
    "</details>\n"
   ]
  },
  {
   "cell_type": "markdown",
   "id": "4988efe5",
   "metadata": {},
   "source": [
    "# Revert"
   ]
  },
  {
   "cell_type": "markdown",
   "id": "ce816149",
   "metadata": {},
   "source": [
    "**26) Write the command to revert commit a1b2c3d.**"
   ]
  },
  {
   "cell_type": "code",
   "execution_count": null,
   "id": "41f4d8e4",
   "metadata": {
    "vscode": {
     "languageId": "plaintext"
    }
   },
   "outputs": [],
   "source": []
  },
  {
   "cell_type": "markdown",
   "id": "39f6fb1d",
   "metadata": {},
   "source": [
    "<details>\n",
    "<summary style=\"font-size:16px; color: darkgreen; cursor: pointer;\">Click to reveal the answer</summary>\n",
    "\n",
    "`git revert a1b2c3d`\n",
    "\n",
    "</details>\n"
   ]
  }
 ],
 "metadata": {
  "kernelspec": {
   "display_name": "Python 3",
   "language": "python",
   "name": "python3"
  },
  "language_info": {
   "name": "python",
   "version": "3.10.10"
  }
 },
 "nbformat": 4,
 "nbformat_minor": 5
}
